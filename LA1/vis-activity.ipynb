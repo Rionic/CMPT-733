{
 "cells": [
  {
   "cell_type": "markdown",
   "metadata": {},
   "source": [
    "# Data Storytelling Lab\n",
    "\n",
    "**Goal:** The goal of this exercise is to practice data storytelling in a collaborative way. There are three parts to the exercise, today:\n",
    "\n",
    "1. Critical discussion of plot effectiveness in a given example\n",
    "2. Make a data story based on a given set of dashboards\n",
    "3. Create a new component of analysis and visualization to add to the data story\n",
    "\n",
    "After the lab, you will also get to review and provide feedback on the data story made by other participants.\n"
   ]
  },
  {
   "cell_type": "markdown",
   "metadata": {},
   "source": [
    "## Step 1: Find your team (10 minutes)\n",
    "\n",
    "Please see the [activity group signup sheet to find your team](https://1sfu-my.sharepoint.com/:x:/g/personal/sbergner_sfu_ca/EeuyWyjS37hNshD5uWRk1scB53qQ-vJq8xDUaC9fAp6zYw?e=RDOWa1) \n",
    "At the lab, please let the facilitator know if you are not able to access the document or if you would like to be assigned to a group.\n",
    "\n",
    "During the lab, consider to split tasks among team members."
   ]
  },
  {
   "cell_type": "markdown",
   "metadata": {},
   "source": [
    "## Step 2: Create a workspace (5 minutes)\n",
    "1. Create a shared document or SFU Onedrive for your team to take notes and collaborate on. You can also put links to your notebooks and other resources in this document.\n",
    "2. Share the link to the document with your team members.\n",
    "3. Create a file workspace either on Google Colab or on a lab machine, where you can collaborate on a notebook.\n",
    "\n",
    "For (3) we have prepared a conda environment that you can use via:\n",
    "```bash\n",
    "conda activate /usr/shared/CMPT/big-data/condaenv/gt/\n",
    "cd YOUR_WORKSPACE_FOLDER_TO_SHARE_WITH_YOUR_TEAM\n",
    "jupyter lab --no-browser --port=8888\n",
    "```\n",
    "The jupyter lab installation in this environment also has the `jupyter_collaboration` extension installed. This gives you a button in the top right of your notebook, that allows you to create a link to your notebook that you can share with your team members. This link will allow them to collaborate with you on the notebook.\n",
    "For that to work, your team members have to connect to your lab machine, e.g. via\n",
    "```\n",
    "ssh -p24 -L 8888:localhost:8888 SFUID@secb1010u-b01.csil.sfu.ca\n",
    "```\n",
    "\n",
    "If this setup works for you, you can continue to collaborate in one notebook. If you prefer to work in separate notebooks and syncronize on some content individually, you can do that as well."
   ]
  },
  {
   "cell_type": "markdown",
   "metadata": {},
   "source": [
    "## Part 1: Critical discussion of plot effectiveness in a given example (20 minutes)\n",
    "\n",
    "a) Discussion\n",
    "\n",
    "Please pick one of the following plots and discuss the effectiveness of the plot in terms of the following criteria:\n",
    "- What is the main message of the plot?\n",
    "- Who is the intended audience?\n",
    "- What is the plot's effectiveness in conveying the message to the audience?\n",
    "- What are the strengths and weaknesses of the plot?\n",
    "\n",
    "b) Improvement\n",
    "\n",
    "Please make a revised version of the plot in this notebook and improve the story telling by improving the visual design and context of the plot. You are allowed to create artificial, plausible context for this purpose.\n",
    "\n",
    "Please remove the other plot, that you are not discussing, from the notebook."
   ]
  },
  {
   "cell_type": "markdown",
   "metadata": {},
   "source": [
    "### Example 1\n",
    "![](figures/ex01-tickets-before.png)\n",
    "\n",
    "Here is the [data for this example.](data/ex01_ticket_volumes.csv)"
   ]
  },
  {
   "cell_type": "markdown",
   "metadata": {},
   "source": [
    "### Example 2\n",
    "![](figures/ex02-student-engagement.png)\n",
    "\n",
    "Here is the [data for this example.](data/ex02_survey_results.csv)"
   ]
  },
  {
   "cell_type": "code",
   "execution_count": null,
   "metadata": {
    "vscode": {
     "languageId": "plaintext"
    }
   },
   "outputs": [],
   "source": [
    "# TODO write your own code and markdown to create an improved message from your chosen vis example."
   ]
  },
  {
   "cell_type": "markdown",
   "metadata": {},
   "source": [
    "## Part 2 - Make a data story based on a given set of dashboards (40 minutes)"
   ]
  },
  {
   "cell_type": "markdown",
   "metadata": {},
   "source": [
    "For this part, you will get to revisit urban data from the City of Vancouver through the lens of Jens von Bergmann who is showcasing various dashboards related to Vancouver's urban environment on his website [mountainmath.ca](https://mountainmath.ca/).\n",
    "\n",
    "Please pick one of the dashboards on his site and create a data story PPTX on the data and visualizations provided.\n",
    "\n",
    "## Task breakdown"
   ]
  },
  {
   "cell_type": "markdown",
   "metadata": {},
   "source": [
    "\n",
    "**Step 1: Define Audience and Purpose (10 minutes)**\n",
    "- Discuss in you team to select a specific audience (e.g., business executives, policymakers, general public) and purpose (e.g., inform, persuade, inspire).\n",
    "- Discuss and agree on the key considerations and expectations of the chosen audience and purpose.\n",
    "\n",
    "\n"
   ]
  },
  {
   "cell_type": "markdown",
   "metadata": {},
   "source": [
    "\n",
    "**Step 2: Identify Questions (5 minutes)**\n",
    "- brainstorm and identify relevant questions that align with your chosen audience and purpose.\n",
    "- consider both descriptive questions (e.g., What are the trends?) and prescriptive questions (e.g., What actions should be taken?).\n"
   ]
  },
  {
   "cell_type": "markdown",
   "metadata": {},
   "source": [
    "\n",
    "**Step 3: Explore data visualizations and discuss insights (10 minutes)**\n",
    "- Create snapshots of the visualizations from the dashboard you selected and add them to your presentation or notebook.\n",
    "- Discuss your findings to address the identified questions, selecting appropriate methodologies and visualization techniques.\n",
    "- Consider questions on data cleaning, transformation, and visualization choices.\n",
    "\n",
    "**Bonus 3a: Create a new component of analysis and visualization to add to the data story (10 minutes)**\n",
    "- Find an additional data source to enrich your data story.\n",
    "- Create a new component of analysis and visualization to add to the data story."
   ]
  },
  {
   "cell_type": "markdown",
   "metadata": {},
   "source": [
    "\n",
    "**Step 4: Create Presentation Materials (30 minutes)**\n",
    "- Teams develop a short PowerPoint presentation (to be viewable as PDF) or Jupyter Notebook that communicates your findings to the chosen audience.\n",
    "- Emphasize clear and concise storytelling, using effective visualizations and supporting narrative text.\n",
    "- Ensure that your slides follow a clear structure, including title, key findings, visualizations, and interpretation.\n",
    "\n",
    "It is OK to create somewhat wordy, detailed slides in this step, as long as they communicate clear and relevant points.\n",
    "If you use Onedrive Powerpoint, you could also record your narration of the slides for your viewers."
   ]
  },
  {
   "cell_type": "markdown",
   "metadata": {},
   "source": [
    "\n",
    "**Step 5: Reflection and Discussion (5 minutes)**\n",
    "- Have a brief group discussion on the challenges faced, lessons learned, and strategies employed during the exercise.\n",
    "- Encourage your team members to reflect on the importance of audience-centered communication and effective data storytelling.\n"
   ]
  },
  {
   "cell_type": "markdown",
   "metadata": {},
   "source": [
    "## Submission"
   ]
  },
  {
   "cell_type": "markdown",
   "metadata": {},
   "source": [
    "Complete this notebook and your presentation to Coursys activity [`LA1`](https://coursys.sfu.ca/2024sp-cmpt-733-g1/+la1/)."
   ]
  }
 ],
 "metadata": {
  "kernelspec": {
   "display_name": "base",
   "language": "python",
   "name": "python3"
  },
  "language_info": {
   "codemirror_mode": {
    "name": "ipython",
    "version": 3
   },
   "file_extension": ".py",
   "mimetype": "text/x-python",
   "name": "python",
   "nbconvert_exporter": "python",
   "pygments_lexer": "ipython3",
   "version": "3.11.4"
  }
 },
 "nbformat": 4,
 "nbformat_minor": 2
}
