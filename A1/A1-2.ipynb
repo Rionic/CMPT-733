{
 "cells": [
  {
   "cell_type": "markdown",
   "metadata": {},
   "source": [
    " # Assignment 1-2: Data Collection Using Web APIs"
   ]
  },
  {
   "cell_type": "markdown",
   "metadata": {},
   "source": [
    " ## Objective"
   ]
  },
  {
   "cell_type": "markdown",
   "metadata": {},
   "source": [
    " Many websites (such as Twitter, Yelp, Spotify) provide free APIs to allow users to access their data. In this assignment, you will learn the following:\n",
    "\n",
    "\n",
    "\n",
    " * How to ask insightful questions about data.\n",
    "\n",
    " * How to collect data from Web APIs using standard Python libraries.\n",
    "\n",
    "\n",
    "\n",
    " **Requirements:**\n",
    "\n",
    "\n",
    "\n",
    " 1. Use [pandas.DataFrame](http://pandas.pydata.org/pandas-docs/stable/generated/pandas.DataFrame.html) to manipulate data.\n",
    "\n",
    "\n",
    "\n",
    " 2. Follow the Python code style guide (https://www.python.org/dev/peps/pep-0008/). If your code is hard to read, you may lose points. This requirement will stay for the whole semester."
   ]
  },
  {
   "cell_type": "markdown",
   "metadata": {},
   "source": [
    " ## Preliminary"
   ]
  },
  {
   "cell_type": "markdown",
   "metadata": {},
   "source": [
    " To complete this assignment, you will use Python libraries such as:\n",
    "\n",
    "\n",
    "\n",
    " - `requests` to make HTTP requests to the API.\n",
    "\n",
    " - `json` to parse JSON responses.\n",
    "\n",
    " - `pandas` to process and manipulate data.\n",
    "\n",
    "\n",
    "\n",
    " Before starting, you can refer to these tutorials:\n",
    "\n",
    "\n",
    "\n",
    " * [Python `requests` library](https://realpython.com/python-requests/)\n",
    "\n",
    " * [Working with JSON in Python](https://realpython.com/python-json/)\n",
    "\n",
    " * [Pandas basics](https://pandas.pydata.org/docs/user_guide/10min.html)\n",
    "\n",
    "## Finding APIs\n",
    "\n",
    "\n",
    "\n",
    " If you're unsure which API to explore, here are some useful resources:\n",
    "\n",
    " - [Public APIs GitHub Repository](https://github.com/public-apis/public-apis): A curated list of free APIs for development.\n",
    "\n",
    "\n",
    "\n",
    " Make sure the API you choose aligns with the assignment requirements and provides sufficient data to answer your questions."
   ]
  },
  {
   "cell_type": "markdown",
   "metadata": {},
   "source": [
    " ## Overview"
   ]
  },
  {
   "cell_type": "markdown",
   "metadata": {},
   "source": [
    " This is a **group** assignment.\n",
    "\n",
    " Please check your group in this [Spreadsheet](https://1sfu-my.sharepoint.com/:x:/g/personal/sbergner_sfu_ca/EfiqKEqv4_pGgGjG0CvYBN4BvNM4FnJ-SvBAkIqVKN-iJA?e=LhVSqk).\n",
    "\n",
    "\n",
    "\n",
    " To complete this assignment, your group needs to go through the following steps:\n",
    "\n",
    "\n",
    "\n",
    " 1. Select a new Web API\n",
    "\n",
    " 2. Explore the API documentation to understand its capabilities and endpoints.\n",
    "\n",
    " 3. Formulate four questions that can be answered using the API.\n",
    "\n",
    " 4. Write Python code to query the API and answer these questions.\n",
    "\n",
    "\n",
    "\n",
    " ### Step 3: Formulating Questions\n",
    "\n",
    " Good questions should:\n",
    "\n",
    " - Be **useful**, answering common or novel data use cases.\n",
    "\n",
    " - Be **diverse**, covering various endpoints or use cases.\n",
    "\n",
    " - Have a range of **difficulty**, from simple (few parameters) to complex (multiple parameters or computations)."
   ]
  },
  {
   "cell_type": "markdown",
   "metadata": {},
   "source": [
    " ### Example Questions (Yelp API)\n",
    "\n",
    "\n",
    "\n",
    " * Q1. What's the phone number of Capilano Suspension Bridge Park?\n",
    "\n",
    " * Q2. Which yoga store has the highest review count in Vancouver?\n",
    "\n",
    " * Q3. How many Starbucks stores are in Seattle and where are they located?\n",
    "\n",
    " * Q4. What are the ratings for a list of restaurants?\n",
    "\n",
    "\n",
    "\n",
    " These questions vary in usefulness, diversity, and complexity."
   ]
  },
  {
   "cell_type": "markdown",
   "metadata": {},
   "source": [
    " ## Now, it's your turn! :)"
   ]
  },
  {
   "cell_type": "markdown",
   "metadata": {},
   "source": [
    " ### Instructions:\n",
    "\n",
    " 1. Choose an API and obtain access credentials (e.g., API key).\n",
    "\n",
    " 2. Write Python functions to query the API.\n",
    "\n",
    " 3. Answer each question using the API data.\n",
    "\n",
    " 4. Use `pandas` to format and display your results."
   ]
  },
  {
   "cell_type": "code",
   "execution_count": 1,
   "metadata": {},
   "outputs": [],
   "source": [
    "## Provide your API key here for TAs to reproduce your results\n",
    "API_KEY = \"21a69f8f69a8a28cd5128b90e95e8a9f\"\n"
   ]
  },
  {
   "cell_type": "markdown",
   "metadata": {},
   "source": [
    " ### Q0: What is the current temperature in Vancouver?"
   ]
  },
  {
   "cell_type": "code",
   "execution_count": 2,
   "metadata": {},
   "outputs": [
    {
     "name": "stdout",
     "output_type": "stream",
     "text": [
      "The current temperature in Vancouver is: 5.02 degrees celsius\n"
     ]
    }
   ],
   "source": [
    "import requests\n",
    "\n",
    "def fetch_data(endpoint):\n",
    "    try:\n",
    "        response = requests.get(endpoint)\n",
    "        response.raise_for_status()  # Raise an error for bad responses (4XX, 5XX)\n",
    "        return response.json()\n",
    "    except requests.exceptions.RequestException as e:\n",
    "        print(f\"An error occurred: {e}\")\n",
    "        return None\n",
    "\n",
    "city_name = 'Vancouver, Canada'\n",
    "response = fetch_data(f\"https://api.openweathermap.org/data/2.5/weather?q={city_name}&units=metric&appid={API_KEY}\")\n",
    "print(f\"The current temperature in Vancouver is: {response['main']['temp']} degrees celsius\")\n"
   ]
  },
  {
   "cell_type": "markdown",
   "metadata": {},
   "source": [
    " ### Q1: What is the average wind speed across major cities in BC?"
   ]
  },
  {
   "cell_type": "code",
   "execution_count": 7,
   "metadata": {},
   "outputs": [
    {
     "name": "stdout",
     "output_type": "stream",
     "text": [
      "The average wind speed in major cities of British Columbia is: 2.1386666666666665km/h\n"
     ]
    }
   ],
   "source": [
    "import requests\n",
    "\n",
    "def fetch_data(endpoint):\n",
    "    try:\n",
    "        response = requests.get(endpoint)\n",
    "        response.raise_for_status()  # Raise an error for bad responses (4XX, 5XX)\n",
    "        return response.json()\n",
    "    except requests.exceptions.RequestException as e:\n",
    "        print(f\"An error occurred: {e}\")\n",
    "        return None\n",
    "province = 'British Columbia,CA'\n",
    "cities = [\n",
    "    \"Vancouver\", \"Richmond\", \"Surrey\", \"Burnaby\", \"Coquitlam\",\n",
    "    \"North Vancouver\", \"West Vancouver\", \"Langley\", \"Abbotsford\",\n",
    "    \"Chilliwack\", \"Victoria\", \"Delta\", \"Kelowna\", \"Kamloops\", \"Prince George\"\n",
    "]\n",
    "avg = 0\n",
    "for city in cities:\n",
    "    response = fetch_data(f\"https://api.openweathermap.org/data/2.5/weather?q={city}&units=metric&appid={API_KEY}\")\n",
    "    if response: \n",
    "        avg += response['wind']['speed']\n",
    "avg = avg / len(cities)\n",
    "print(f\"The average wind speed in major cities of British Columbia is: {avg}km/h\")"
   ]
  },
  {
   "cell_type": "markdown",
   "metadata": {},
   "source": [
    " ### Q2: What cities have a temperature above 0 celsius?"
   ]
  },
  {
   "cell_type": "code",
   "execution_count": 4,
   "metadata": {},
   "outputs": [
    {
     "name": "stdout",
     "output_type": "stream",
     "text": [
      "Cities with temperature above 0 celsius:\n",
      "Vancouver: 5.11\n",
      "Richmond: 5.18\n",
      "Surrey: 4.37\n",
      "Burnaby: 4.87\n",
      "Coquitlam: 5.1\n",
      "North Vancouver: 5.22\n",
      "West Vancouver: 5.48\n",
      "Langley: 3.64\n",
      "Abbotsford: 3.4\n",
      "Chilliwack: 4.99\n",
      "Victoria: 5.49\n",
      "Delta: 4.42\n",
      "Kelowna: 2.01\n",
      "Prince George: 2.1\n"
     ]
    }
   ],
   "source": [
    "import requests\n",
    "\n",
    "def fetch_data(endpoint, params, headers=None):\n",
    "    try:\n",
    "        response = requests.get(endpoint, params=params, headers=headers, timeout=10)\n",
    "        response.raise_for_status()  # Raise an error for bad responses (4XX, 5XX)\n",
    "        return response.json()\n",
    "    except requests.exceptions.RequestException as e:\n",
    "        print(f\"An error occurred: {e}\")\n",
    "        return None\n",
    "\n",
    "\n",
    "# function to filter cities by temperature threshold\n",
    "def filter_cities_by_temperature(cities, threshold, api_key):\n",
    "    endpoint = \"https://api.openweathermap.org/data/2.5/weather\"\n",
    "    result = []\n",
    "\n",
    "    for city_name in cities:\n",
    "        params = {\n",
    "            \"q\": f\"{city_name},CA\",  # Adding country Canada\n",
    "            \"units\": \"metric\",\n",
    "            \"appid\": api_key\n",
    "        }\n",
    "\n",
    "        response = fetch_data(endpoint, params)\n",
    "\n",
    "        # check if response contains valid data\n",
    "        if response and response.get(\"main\") and response[\"main\"].get(\"temp\"):\n",
    "            temperature = response[\"main\"][\"temp\"]\n",
    "            if temperature > threshold:\n",
    "                result.append(f\"{city_name}: {temperature}\")\n",
    "\n",
    "    return result\n",
    "\n",
    "\n",
    "cities = [\n",
    "    \"Vancouver\", \"Richmond\", \"Surrey\", \"Burnaby\", \"Coquitlam\",\n",
    "    \"North Vancouver\", \"West Vancouver\", \"Langley\", \"Abbotsford\",\n",
    "    \"Chilliwack\", \"Victoria\", \"Delta\", \"Kelowna\", \"Kamloops\", \"Prince George\"\n",
    "]\n",
    "threshold = 0\n",
    "result = filter_cities_by_temperature(cities, threshold, API_KEY)\n",
    "\n",
    "if result:\n",
    "    print(\"Cities with temperature above 0 celsius:\")\n",
    "    for city in result:\n",
    "        print(f\"{city}\")\n",
    "else:\n",
    "    print(\"No cities found with temperature above 0 celsius.\")\n"
   ]
  },
  {
   "cell_type": "markdown",
   "metadata": {},
   "source": [
    " ### Q3: Optional - Visualizing data: What is the temperature forecasted for Vancouver for the next week?"
   ]
  },
  {
   "cell_type": "code",
   "execution_count": 6,
   "metadata": {},
   "outputs": [
    {
     "data": {
      "image/png": "[encoded data removed]",
      "text/plain": [
       "<Figure size 640x480 with 1 Axes>"
      ]
     },
     "metadata": {},
     "output_type": "display_data"
    }
   ],
   "source": [
    "import requests\n",
    "import pandas as pd\n",
    "import matplotlib.pyplot as plt\n",
    "\n",
    "def fetch_forecast():\n",
    "    endpoint = \"https://api.openweathermap.org/data/2.5/forecast\"\n",
    "    params = {\n",
    "        \"lat\": 49.25,\n",
    "        \"lon\": -123.08,\n",
    "        \"units\": \"metric\",\n",
    "        \"appid\": API_KEY}\n",
    "    try:\n",
    "        response = requests.get(endpoint, params=params)\n",
    "        response.raise_for_status()  \n",
    "        return response.json()\n",
    "    except requests.exceptions.RequestException as e:\n",
    "        print(f\"An error occurred: {e}\")\n",
    "        return None\n",
    "\n",
    "def visualize_forecast():\n",
    "    data = fetch_forecast()\n",
    "\n",
    "    if data and \"list\" in data:\n",
    "        #Extract timestamps and temperatures\n",
    "        timestamps = [item[\"dt_txt\"] for item in data[\"list\"]]\n",
    "        temperatures = [item[\"main\"][\"temp\"] for item in data[\"list\"]]\n",
    "\n",
    "        #Create df for visualization\n",
    "        df = pd.DataFrame({\"Timestamp\": timestamps, \"Temperature (°C)\": temperatures})\n",
    "        df[\"Timestamp\"] = pd.to_datetime(df[\"Timestamp\"])\n",
    "        df.set_index(\"Timestamp\", inplace=True)\n",
    "\n",
    "        #Plot\n",
    "        df.plot(kind=\"line\", legend=False)\n",
    "        plt.title(\"Temperature Forecast for Vancouver\")\n",
    "        plt.xlabel(\"Date\")\n",
    "        plt.ylabel(\"Temperature (°C)\")\n",
    "        plt.grid(True)\n",
    "        plt.xticks(rotation=45)\n",
    "        plt.show()\n",
    "    else:\n",
    "        print(\"No data available.\")\n",
    "\n",
    "visualize_forecast()"
   ]
  },
  {
   "cell_type": "markdown",
   "metadata": {},
   "source": [
    " ## Submission"
   ]
  },
  {
   "cell_type": "markdown",
   "metadata": {},
   "source": [
    " Complete this notebook, rename it to `A1-2.ipynb`, and submit it along with any necessary credentials or configuration files to the CourSys activity [`Assignment 1 - Part 2`](https://coursys.sfu.ca/2025sp-cmpt-733-g1/+a1-2/)."
   ]
  },
  {
   "cell_type": "markdown",
   "metadata": {},
   "source": [
    " ## Submission Checklist\n",
    "\n",
    "\n",
    "\n",
    " - [ ] Completed notebook file (`A1-2.ipynb`).\n",
    "\n",
    " - [ ] Included API keys or other necessary credentials (if applicable).\n",
    "\n",
    " - [ ] Verified that questions and answers are documented with meaningful titles.\n",
    "\n",
    " - [ ] Optional visualizations are added to enhance insights."
   ]
  },
  {
   "cell_type": "markdown",
   "metadata": {},
   "source": []
  }
 ],
 "metadata": {
  "kernelspec": {
   "display_name": "Python 3",
   "language": "python",
   "name": "python3"
  },
  "language_info": {
   "codemirror_mode": {
    "name": "ipython",
    "version": 3
   },
   "file_extension": ".py",
   "mimetype": "text/x-python",
   "name": "python",
   "nbconvert_exporter": "python",
   "pygments_lexer": "ipython3",
   "version": "3.10.11"
  }
 },
 "nbformat": 4,
 "nbformat_minor": 2
}
